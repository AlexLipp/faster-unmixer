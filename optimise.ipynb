{
 "cells": [
  {
   "cell_type": "markdown",
   "metadata": {},
   "source": [
    "# Convex unmixer\n",
    "\n",
    "Notebook that uses a network representation of sample localities to unmix sedimentary geochemical data. "
   ]
  },
  {
   "cell_type": "markdown",
   "metadata": {},
   "source": [
    "## Declarations"
   ]
  },
  {
   "cell_type": "code",
   "execution_count": 1,
   "metadata": {},
   "outputs": [],
   "source": [
    "import pyfastunmix\n",
    "import cvxpy as cp\n",
    "import matplotlib.pyplot as plt\n",
    "import networkx as nx\n",
    "import numpy as np\n",
    "import pandas as pd\n",
    "from typing import Dict"
   ]
  },
  {
   "cell_type": "code",
   "execution_count": 2,
   "metadata": {},
   "outputs": [],
   "source": [
    "def add_concentrations(a: Dict[str, cp.Variable], b: Dict[str, cp.Variable]) -> Dict[str, cp.Variable]:\n",
    "    \"\"\"Add two dictionaries together\"\"\"\n",
    "    temp: Dict[str, cp.Variable] = {}\n",
    "    for e in a.keys():\n",
    "        assert e in b.keys(), f\"Key {e} from dictionary a was not found in dictionary b!\"\n",
    "        temp[e] = a[e] + b[e]\n",
    "    return temp"
   ]
  },
  {
   "cell_type": "markdown",
   "metadata": {},
   "source": [
    "## Defining the graph "
   ]
  },
  {
   "cell_type": "code",
   "execution_count": 3,
   "metadata": {},
   "outputs": [],
   "source": [
    "# Get the graph representations of the data\n",
    "sample_network, sample_adjacency = pyfastunmix.fastunmix(\"data/\")\n",
    "G = nx.DiGraph()\n",
    "for i, node_data in enumerate(sample_network):\n",
    "  if i==0:\n",
    "    continue\n",
    "  G.add_node(i, data=node_data)\n",
    "  if node_data.downstream_node != 0:\n",
    "    G.add_edge(i, node_data.downstream_node)"
   ]
  },
  {
   "cell_type": "code",
   "execution_count": 4,
   "metadata": {},
   "outputs": [
    {
     "data": {
      "image/png": "[encoded data removed]",
      "text/plain": [
       "<Figure size 432x288 with 1 Axes>"
      ]
     },
     "metadata": {},
     "output_type": "display_data"
    }
   ],
   "source": [
    "nx.draw_networkx(G,arrows=True,with_labels=True,node_size=10)\n",
    "plt.show()"
   ]
  },
  {
   "cell_type": "code",
   "execution_count": 5,
   "metadata": {},
   "outputs": [],
   "source": [
    "elements = ['Li', 'Be', 'Na', 'Mg', 'Al', 'P', 'K', 'Ca', 'Ti', 'V',\n",
    "       'Cr', 'Mn', 'Fe', 'Co', 'Ni', 'Cu', 'Zn', 'Ga', 'As', 'Se', 'Rb', 'Sr',\n",
    "       'Y', 'Zr', 'Nb', 'Mo', 'Ag', 'Cd', 'Sn', 'Sb', 'Cs', 'Ba', 'La', 'Ce',\n",
    "       'Pr', 'Nd', 'Sm', 'Eu', 'Gd', 'Tb', 'Dy', 'Ho', 'Er', 'Tm', 'Yb', 'Lu',\n",
    "       'Hf', 'Ta', 'W', 'Tl', 'Pb', 'Th', 'U']\n",
    "\n",
    "elements = ['Mg']\n",
    "\n",
    "# Code from the notebook\n",
    "geochem_raw = np.loadtxt('data/geochem.dat',dtype=str) # Read in data\n",
    "geochem_raw = np.delete(geochem_raw,[7,53],1) # Delete columns for S and Bi (too many NAs)\n",
    "elems = geochem_raw[0,1:54] # List of element strings\n",
    "obs_data = pd.DataFrame(geochem_raw[1:,],columns=geochem_raw[0,:]) # Cast to DataFrame for quick access\n",
    "obs_data[elems]=obs_data[elems].astype(float) # Cast numeric data to float"
   ]
  },
  {
   "cell_type": "markdown",
   "metadata": {},
   "source": [
    "## Defining total area for every node"
   ]
  },
  {
   "cell_type": "code",
   "execution_count": 6,
   "metadata": {},
   "outputs": [
    {
     "name": "stdout",
     "output_type": "stream",
     "text": [
      "Processing CG003...\n",
      "Processing CG045...\n",
      "Processing CG061...\n",
      "Processing CG025...\n",
      "Processing CG057...\n",
      "Processing CG059...\n",
      "Processing CG097...\n",
      "Processing CG005...\n",
      "Processing CG008_rep_avg...\n",
      "Processing CG030_rep_avg...\n",
      "Processing CG041...\n",
      "Processing CG065...\n",
      "Processing CG064...\n",
      "Processing CG066...\n",
      "Processing CG043_rep_avg...\n",
      "Processing CG063...\n",
      "Processing CG033...\n",
      "Processing CG016...\n",
      "Processing CG099...\n",
      "Processing CG096...\n",
      "Processing CG044...\n",
      "Processing CG007...\n",
      "Processing CG011...\n",
      "Processing CG019...\n",
      "Processing CG094...\n",
      "Processing CG100...\n",
      "Processing CG098...\n",
      "Processing CG062...\n",
      "Processing CG020...\n",
      "Processing CG026...\n",
      "Processing CG015...\n",
      "Processing CG049...\n",
      "Processing CG089...\n",
      "Processing CG087...\n",
      "Processing CG022...\n",
      "Processing CG051...\n",
      "Processing CG023...\n",
      "Processing CG093...\n",
      "Processing CG084...\n",
      "Processing CG048...\n",
      "Processing CG010...\n",
      "Processing CG073...\n",
      "Processing CG042...\n",
      "Processing CG031...\n",
      "Processing CG079...\n",
      "Processing CG053...\n",
      "Processing CG036...\n",
      "Processing CG075...\n",
      "Processing CG068_rep_avg...\n",
      "Processing CG035...\n",
      "Processing CG085...\n",
      "Processing CG095...\n",
      "Processing CG013...\n",
      "Processing CG002...\n",
      "Processing CG092_rep_avg...\n",
      "Processing CG077...\n",
      "Processing CG091...\n",
      "Processing CG039...\n",
      "Processing CG024...\n",
      "Processing CG021...\n",
      "Processing CG001...\n",
      "Processing CG090...\n",
      "Processing CG032...\n",
      "Processing CG088...\n"
     ]
    }
   ],
   "source": [
    "for x in nx.topological_sort(G):\n",
    "    my_data = G.nodes[x]['data']\n",
    "    print(f\"Processing {my_data.data.name}...\")\n",
    "    my_data.total_area += my_data.area\n",
    "    if my_data.downstream_node!=0: # If node has downstream nodes\n",
    "        downstream_data = G.nodes[my_data.downstream_node]['data']\n",
    "        downstream_data.total_area += my_data.total_area"
   ]
  },
  {
   "cell_type": "markdown",
   "metadata": {},
   "source": [
    "## Building an objective function"
   ]
  },
  {
   "cell_type": "code",
   "execution_count": 7,
   "metadata": {},
   "outputs": [],
   "source": [
    "# Build the main objective\n",
    "# Use a topological sort to ensure upstream-to-downstream motion.\n",
    "primary_terms = []\n",
    "for x in nx.topological_sort(G):\n",
    "    my_data = G.nodes[x]['data']\n",
    "#     print(f\"Processing {my_data.data.name}...\")\n",
    "    my_data.my_values = {e : cp.Variable(pos=True) for e in elements} # Set up a CVXPY parameter for each element for each node\n",
    "    my_data.my_flux = {e : my_data.area * v for e, v in my_data.my_values.items()} # area weighted contribution from this node\n",
    "    if hasattr(my_data, \"total_flux\"): # If node already receives flux, add this node's contribution to that\n",
    "        my_data.total_flux = add_concentrations(my_data.my_flux, my_data.total_flux)\n",
    "    else: # If leaf node, set the total flux leaving node as the contribution from this node only\n",
    "        my_data.total_flux = my_data.my_flux\n",
    "\n",
    "    for element, concentration in my_data.total_flux.items():\n",
    "        observed = float(obs_data[obs_data[\"Sample.Code\"]==my_data.data.name][element])\n",
    "        normalised_concentration = concentration/my_data.total_area\n",
    "        primary_terms.append(cp.maximum(normalised_concentration/observed,observed*cp.inv_pos(normalised_concentration)))\n",
    "    if my_data.downstream_node!=0: # If node has downstream nodes\n",
    "        downstream_data = G.nodes[my_data.downstream_node]['data']\n",
    "        if hasattr(downstream_data, \"total_flux\"):\n",
    "            # If downstream node already receives flux, add this nodes flux to it \n",
    "            downstream_data.total_flux = add_concentrations(my_data.total_flux, downstream_data.total_flux)\n",
    "        else:\n",
    "            # If not, set the flux received downstream just as the contribution from this node\n",
    "            downstream_data.total_flux = my_data.total_flux"
   ]
  },
  {
   "cell_type": "code",
   "execution_count": 8,
   "metadata": {},
   "outputs": [
    {
     "name": "stdout",
     "output_type": "stream",
     "text": [
      "Compiling and solving problem...\n",
      "\n",
      "ECOS 2.0.7 - (C) embotech GmbH, Zurich Switzerland, 2012-15. Web: www.embotech.com/ECOS\n",
      "\n",
      "It     pcost       dcost      gap   pres   dres    k/t    mu     step   sigma     IR    |   BT\n",
      " 0  +0.000e+00  -0.000e+00  +2e+03  8e-01  4e-01  1e+00  8e+00    ---    ---    1  1  - |  -  - \n",
      " 1  +3.541e+01  +3.726e+01  +1e+03  6e-01  4e-01  3e+00  5e+00  0.5178  3e-01   2  2  2 |  0  0\n",
      " 2  +3.616e+01  +3.700e+01  +3e+02  1e-01  9e-02  1e+00  1e+00  0.8413  6e-02   2  2  1 |  0  0\n",
      " 3  +6.457e+01  +6.633e+01  +2e+02  1e-01  1e-01  2e+00  7e-01  0.5711  4e-01   2  2  2 |  0  0\n",
      " 4  +9.308e+01  +9.437e+01  +4e+01  4e-02  4e-02  1e+00  2e-01  0.7795  3e-02   2  1  2 |  0  0\n",
      " 5  +8.518e+01  +8.623e+01  +2e+01  3e-02  3e-02  1e+00  8e-02  0.5941  1e-01   1  1  1 |  0  0\n",
      " 6  +8.172e+01  +8.287e+01  +2e+01  3e-02  3e-02  1e+00  7e-02  0.2474  7e-01   1  1  1 |  0  0\n",
      " 7  +8.332e+01  +8.427e+01  +4e+00  1e-02  1e-02  1e+00  2e-02  0.8090  4e-02   1  2  1 |  0  0\n",
      " 8  +8.145e+01  +8.247e+01  +2e+00  7e-03  8e-03  1e+00  8e-03  0.7229  3e-01   1  2  2 |  0  0\n",
      " 9  +7.952e+01  +8.038e+01  +4e-01  2e-03  3e-03  9e-01  1e-03  0.8549  3e-02   1  1  2 |  0  0\n",
      "10  +6.787e+01  +6.860e+01  +1e-01  1e-03  2e-03  7e-01  6e-04  0.7364  2e-01   2  2  2 |  0  0\n",
      "11  +6.639e+01  +6.711e+01  +1e-01  1e-03  2e-03  7e-01  4e-04  0.5068  5e-01   1  2  2 |  0  0\n",
      "12  +5.714e+01  +5.765e+01  +2e-02  4e-04  5e-04  5e-01  8e-05  0.8524  4e-02   1  1  1 |  0  0\n",
      "13  +4.505e+01  +4.542e+01  +6e-03  2e-04  2e-04  4e-01  2e-05  0.8669  2e-01   1  1  1 |  0  0\n",
      "14  +4.049e+01  +4.078e+01  +3e-03  1e-04  2e-04  3e-01  1e-05  0.7915  4e-01   2  1  2 |  0  0\n",
      "15  +3.059e+01  +3.075e+01  +5e-04  3e-05  5e-05  2e-01  2e-06  0.8817  7e-02   2  2  2 |  0  0\n",
      "16  +2.489e+01  +2.501e+01  +2e-04  2e-05  4e-05  1e-01  9e-07  0.8322  3e-01   2  2  2 |  0  0\n",
      "17  +2.304e+01  +2.314e+01  +2e-04  1e-05  3e-05  1e-01  6e-07  0.4887  5e-01   2  3  2 |  0  0\n",
      "18  +1.674e+01  +1.678e+01  +3e-05  4e-06  1e-05  5e-02  1e-07  0.8604  6e-02   3  1  1 |  0  0\n",
      "19  +1.602e+01  +1.606e+01  +3e-05  4e-06  1e-05  4e-02  1e-07  0.4769  6e-01   0  0  0 |  0  0\n",
      "20  +1.431e+01  +1.434e+01  +1e-05  4e-06  8e-06  3e-02  6e-08  0.6392  3e-01   1  0  0 |  0  0\n",
      "21  +1.430e+01  +1.433e+01  +1e-05  5e-06  8e-06  3e-02  5e-08  0.0768  6e-01   0  0  0 |  0  0\n",
      "22  +1.388e+01  +1.390e+01  +1e-05  5e-06  8e-06  3e-02  5e-08  0.1587  4e-01   0  0  0 |  0  0\n",
      "23  +1.288e+01  +1.290e+01  +9e-06  5e-06  7e-06  2e-02  3e-08  0.3821  2e-01   0  0  0 |  0  0\n",
      "24  +1.270e+01  +1.272e+01  +9e-06  2e-05  7e-06  2e-02  3e-08  0.0207  6e-01   0  0  0 |  0  0\n",
      "25  +1.253e+01  +1.255e+01  +8e-06  1e-05  7e-06  2e-02  3e-08  0.1532  2e-01   0  0  0 |  0  0\n",
      "26  +1.219e+01  +1.221e+01  +6e-06  1e-05  7e-06  2e-02  2e-08  0.2609  4e-01   0  0  0 |  0  0\n",
      "27  +1.215e+01  +1.217e+01  +6e-06  2e-05  7e-06  1e-02  2e-08  0.0325  8e-01   0  0  0 |  0  0\n",
      "28  +1.213e+01  +1.214e+01  +6e-06  2e-05  7e-06  1e-02  2e-08  0.0267  4e-01   0  0  0 |  0  0\n",
      "29  +1.214e+01  +1.215e+01  +6e-06  2e-05  7e-06  1e-02  2e-08  0.0002  8e-01   0  0  0 |  0  0\n",
      "30  +1.214e+01  +1.215e+01  +6e-06  2e-05  7e-06  1e-02  2e-08  0.0141  7e-01   0  0  0 |  0  0\n",
      "31  +1.202e+01  +1.204e+01  +6e-06  2e-05  7e-06  1e-02  2e-08  0.0398  5e-01   0  0  0 |  0  0\n",
      "32  +1.169e+01  +1.170e+01  +5e-06  5e-05  7e-06  1e-02  2e-08  0.3152  3e-01   0  0  0 |  0  0\n",
      "33  +1.170e+01  +1.171e+01  +5e-06  5e-05  7e-06  1e-02  2e-08  0.0000  9e-01   0  0  0 |  0  0\n",
      "34  +1.172e+01  +1.173e+01  +5e-06  5e-05  7e-06  1e-02  2e-08  0.0014  8e-01   0  0  0 |  0  0\n",
      "35  +1.169e+01  +1.170e+01  +5e-06  7e-05  7e-06  1e-02  2e-08  0.0004  9e-01   0  0  0 |  0  0\n",
      "36  +1.181e+01  +1.182e+01  +5e-06  7e-05  7e-06  1e-02  2e-08  0.0222  9e-01   0  0  0 |  0  0\n",
      "37  +1.163e+01  +1.164e+01  +4e-06  7e-05  7e-06  1e-02  2e-08  0.1103  3e-01   0  0  0 |  0  0\n",
      "38  +1.165e+01  +1.166e+01  +4e-06  8e-05  7e-06  1e-02  2e-08  0.0000  9e-01   0  0  0 |  0  0\n",
      "39  +1.160e+01  +1.161e+01  +4e-06  2e-04  7e-06  1e-02  2e-08  0.0004  9e-01   0  0  0 |  0  0\n",
      "40  +1.161e+01  +1.162e+01  +4e-06  2e-04  7e-06  1e-02  2e-08  0.0000  1e+00   0  0  0 |  0  0\n",
      "No further progress possible, recovering best iterate (19) and stopping.\n",
      "Close to OPTIMAL (within feastol=9.9e-06, reltol=1.6e-06, abstol=2.6e-05).\n",
      "Runtime: 0.019412 seconds.\n",
      "\n",
      "Problem status = optimal_inaccurate\n",
      "Objective value = 16.016963486050873\n"
     ]
    },
    {
     "name": "stderr",
     "output_type": "stream",
     "text": [
      "/home/alex/anaconda3/lib/python3.8/site-packages/cvxpy/problems/problem.py:1060: UserWarning: Solution may be inaccurate. Try another solver, adjusting the solver settings, or solve with verbose=True for more information.\n",
      "  warnings.warn(\n"
     ]
    }
   ],
   "source": [
    "objective = cp.norm(cp.vstack(primary_terms))\n",
    "constraints = []\n",
    "# Create and solve the problem\n",
    "print(\"Compiling and solving problem...\")\n",
    "problem = cp.Problem(cp.Minimize(objective), constraints)\n",
    "objective_value = problem.solve(verbose=True)\n",
    "\n",
    "print(f\"Problem status = {problem.status}\")\n",
    "print(f\"Objective value = {objective_value}\")"
   ]
  },
  {
   "cell_type": "code",
   "execution_count": 9,
   "metadata": {},
   "outputs": [],
   "source": [
    "# Print the solution we found\n",
    "pred = []\n",
    "obs = []\n",
    "names = []\n",
    "for x in G.nodes:\n",
    "    data = G.nodes[x]['data']\n",
    "    sample_name = data.data.name\n",
    "    node_total_area = my_data.total_area\n",
    "    if not hasattr(data, \"my_values\"):\n",
    "        continue\n",
    "    for element, flux in data.total_flux.items():\n",
    "        pred=pred+[flux.value/node_total_area]\n",
    "    observed = float(obs_data[obs_data[\"Sample.Code\"]==data.data.name][element])\n",
    "    names = names + [sample_name]\n",
    "#     print(\"Pred\",flux.value/node_total_area)\n",
    "#     print(\"Obs\",observed)\n",
    "    obs=obs+[observed]"
   ]
  },
  {
   "cell_type": "code",
   "execution_count": 10,
   "metadata": {},
   "outputs": [
    {
     "data": {
      "text/plain": [
       "array([['CG090', '5537.950482183616', '12137.0'],\n",
       "       ['CG039', '8652.035932313891', '7068.0'],\n",
       "       ['CG021', '5393.441062161276', '14289.0'],\n",
       "       ['CG013', '18789.71510507569', '10268.0'],\n",
       "       ['CG088', '6648.921042641616', '8466.0'],\n",
       "       ['CG032', '496.492685535362', '8354.0'],\n",
       "       ['CG001', '1058.1996300517253', '7501.0'],\n",
       "       ['CG068_rep_avg', '3953.724258570638', '16021.0'],\n",
       "       ['CG091', '8262.710755361091', '6152.0'],\n",
       "       ['CG023', '3473.5484570823164', '14487.0'],\n",
       "       ['CG024', '1319.0430437531181', '21039.0'],\n",
       "       ['CG095', '17647.26450159373', '10230.0'],\n",
       "       ['CG092_rep_avg', '5787.731238052851', '9618.5'],\n",
       "       ['CG089', '12297.67554791527', '7100.0'],\n",
       "       ['CG077', '489.82696243163815', '22709.0'],\n",
       "       ['CG085', '5329.397232401543', '9622.0'],\n",
       "       ['CG002', '767.7285229237569', '5133.0'],\n",
       "       ['CG035', '2913.0418632110936', '11078.0'],\n",
       "       ['CG075', '3340.1269442835464', '21015.0'],\n",
       "       ['CG042', '7341.361610044791', '7540.0'],\n",
       "       ['CG084', '4702.755521648799', '11324.0'],\n",
       "       ['CG073', '1934.2820369129256', '10994.0'],\n",
       "       ['CG053', '1939.5613993019954', '15057.0'],\n",
       "       ['CG036', '1177.215108523038', '25590.0'],\n",
       "       ['CG079', '841.5491514631732', '14107.0'],\n",
       "       ['CG031', '782.7104407397862', '12198.0'],\n",
       "       ['CG010', '553.3549233036407', '10959.0'],\n",
       "       ['CG049', '11509.576854179715', '8702.0'],\n",
       "       ['CG048', '1012.8636658090005', '17895.0'],\n",
       "       ['CG051', '2381.469014074354', '17309.0'],\n",
       "       ['CG093', '313.18793101688925', '6472.0'],\n",
       "       ['CG022', '367.31597872667186', '17069.0'],\n",
       "       ['CG096', '4781.561952082761', '8766.0'],\n",
       "       ['CG015', '6628.066308613406', '9895.0'],\n",
       "       ['CG098', '4938.325497957825', '4768.0'],\n",
       "       ['CG041', '1813.0221501558863', '20359.0'],\n",
       "       ['CG087', '827.823379836956', '9787.0'],\n",
       "       ['CG026', '3129.342828130503', '9350.0'],\n",
       "       ['CG094', '3277.168691753283', '10479.0'],\n",
       "       ['CG020', '3564.9484977460206', '11497.0'],\n",
       "       ['CG062', '139.21281435117288', '17184.0'],\n",
       "       ['CG019', '3147.165355028957', '14962.0'],\n",
       "       ['CG100', '757.700706116628', '4457.0'],\n",
       "       ['CG011', '2096.8407352609424', '6168.0'],\n",
       "       ['CG007', '994.6442634385531', '17702.0'],\n",
       "       ['CG044', '588.040325199425', '11918.0'],\n",
       "       ['CG033', '3703.893910815272', '4655.0'],\n",
       "       ['CG099', '1542.849596571545', '13415.0'],\n",
       "       ['CG016', '2734.795359517299', '41909.0'],\n",
       "       ['CG063', '278.3444806211142', '2474.0'],\n",
       "       ['CG030_rep_avg', '654.7587802918175', '13847.5'],\n",
       "       ['CG008_rep_avg', '654.1222556792086', '12287.5'],\n",
       "       ['CG043_rep_avg', '3139.8856828912935', '3379.25'],\n",
       "       ['CG097', '2531.488624911994', '14040.0'],\n",
       "       ['CG066', '540.4238042775331', '3804.0'],\n",
       "       ['CG064', '1739.9482118681033', '8653.0'],\n",
       "       ['CG065', '457.5663821573571', '16029.0'],\n",
       "       ['CG005', '230.09087047982476', '13259.0'],\n",
       "       ['CG059', '365.1399525394496', '3982.0'],\n",
       "       ['CG057', '1041.7731244724253', '11316.0'],\n",
       "       ['CG025', '502.49782569855495', '4917.0'],\n",
       "       ['CG045', '1640.094860454299', '6271.0'],\n",
       "       ['CG061', '69.2451211513223', '1127.0'],\n",
       "       ['CG003', '1101.5671409583285', '7131.0']], dtype='<U18')"
      ]
     },
     "execution_count": 10,
     "metadata": {},
     "output_type": "execute_result"
    }
   ],
   "source": [
    "np.array([names,pred,obs]).T"
   ]
  },
  {
   "cell_type": "code",
   "execution_count": 11,
   "metadata": {},
   "outputs": [
    {
     "data": {
      "image/png": "[encoded data removed]",
      "text/plain": [
       "<Figure size 432x288 with 1 Axes>"
      ]
     },
     "metadata": {
      "needs_background": "light"
     },
     "output_type": "display_data"
    }
   ],
   "source": [
    "plt.scatter(pred,obs)\n",
    "ax = plt.gca()\n",
    "ax.set_yscale('log')\n",
    "ax.set_xscale('log')"
   ]
  },
  {
   "cell_type": "code",
   "execution_count": null,
   "metadata": {},
   "outputs": [],
   "source": []
  }
 ],
 "metadata": {
  "kernelspec": {
   "display_name": "Python 3",
   "language": "python",
   "name": "python3"
  },
  "language_info": {
   "codemirror_mode": {
    "name": "ipython",
    "version": 3
   },
   "file_extension": ".py",
   "mimetype": "text/x-python",
   "name": "python",
   "nbconvert_exporter": "python",
   "pygments_lexer": "ipython3",
   "version": "3.8.5"
  }
 },
 "nbformat": 4,
 "nbformat_minor": 4
}
